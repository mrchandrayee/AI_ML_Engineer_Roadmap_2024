{
  "cells": [
    {
      "cell_type": "markdown",
      "metadata": {
        "id": "bEqFD3z8M4Gi"
      },
      "source": [
        "## Notebook \n",
        "\n"
      ]
    },
    {
      "cell_type": "code",
      "execution_count": null,
      "metadata": {
        "colab": {
          "base_uri": "https://localhost:8080/"
        },
        "id": "jtn81lrvwthk",
        "outputId": "e47d6147-b51e-4e7e-9459-28ba4be0de6f"
      },
      "outputs": [],
      "source": [
        "!pip install -qU elevenlabs"
      ]
    },
    {
      "cell_type": "code",
      "execution_count": null,
      "metadata": {
        "id": "XP_-CZUZEEVc"
      },
      "outputs": [],
      "source": [
        "from elevenlabs import generate, play, set_api_key\n",
        "\n",
        "# set_api_key(\"\")"
      ]
    },
    {
      "cell_type": "markdown",
      "metadata": {
        "id": "j4oAvUwROotV"
      },
      "source": [
        "### Convert text to voice"
      ]
    },
    {
      "cell_type": "code",
      "execution_count": null,
      "metadata": {
        "colab": {
          "base_uri": "https://localhost:8080/",
          "height": 75
        },
        "id": "2DXVCzbeJ3LU",
        "outputId": "e5aa64b7-c99c-404a-d5ea-a40eaeef9d13"
      },
      "outputs": [],
      "source": [
        "audio = generate(\n",
        "    text = \"Type whatever want\",\n",
        "    voice = \"Adam\"\n",
        ")\n",
        "\n",
        "play(audio, notebook = True)"
      ]
    },
    {
      "cell_type": "code",
      "execution_count": null,
      "metadata": {
        "colab": {
          "base_uri": "https://localhost:8080/",
          "height": 75
        },
        "id": "OsprFnQUkEhk",
        "outputId": "bc367503-6339-47ed-bcd1-bc837ae3e367"
      },
      "outputs": [],
      "source": [
        "audio = generate(\n",
        "    text = \"Type whatever want\",\n",
        "    voice = \"Adam\"\n",
        ")\n",
        "\n",
        "play(audio, notebook = True)"
      ]
    },
    {
      "cell_type": "code",
      "execution_count": null,
      "metadata": {
        "colab": {
          "base_uri": "https://localhost:8080/",
          "height": 75
        },
        "id": "uIbGUsGGJ58Z",
        "outputId": "75a715ca-3080-4f91-c1bc-84b3341796f4"
      },
      "outputs": [],
      "source": [
        "# changed voice\n",
        "\n",
        "audio = generate(\n",
        "    text = \"Welcome to Crash Course \",\n",
        "    voice = \"Rachel\"\n",
        ")\n",
        "\n",
        "play(audio, notebook = True)"
      ]
    },
    {
      "cell_type": "markdown",
      "metadata": {
        "id": "Kzl6fD26Mqje"
      },
      "source": [
        "### Getting responses in Hindi"
      ]
    },
    {
      "cell_type": "code",
      "execution_count": null,
      "metadata": {
        "id": "HTP2QKs6lOXu"
      },
      "outputs": [],
      "source": [
        "\n",
        "audio = generate(\n",
        "    text = \"व्याख्यान में आपका स्वागत है!\",\n",
        "    voice = \"Rachel\",\n",
        "    model = \"eleven_multilingual_v2\"\n",
        ")\n",
        "\n",
        "play(audio, notebook = True)"
      ]
    },
    {
      "cell_type": "code",
      "execution_count": null,
      "metadata": {
        "id": "-MV1aikDMlwH"
      },
      "outputs": [],
      "source": [
        "from elevenlabs.exceptions import APIError\n",
        "import time\n",
        "try:\n",
        "    audio = generate(\n",
        "        text = \"सभी को नमस्कार, आशा है कि आप कुछ नया सीख रहे होंगे।\",\n",
        "        voice = \"Rachel\",\n",
        "        model = \"eleven_multilingual_v2\"\n",
        "    )\n",
        "except APIError:\n",
        "    time.sleep(5)  # wait for 5 seconds\n",
        "    audio = generate(\n",
        "        text = \"सभी को नमस्कार, आशा है कि आप कुछ नया सीख रहे होंगे।\",\n",
        "        voice = \"Rachel\",\n",
        "        model = \"eleven_multilingual_v2\"\n",
        "    )\n",
        "\n",
        "play(audio, notebook = True)"
      ]
    },
    {
      "cell_type": "code",
      "execution_count": null,
      "metadata": {
        "id": "yxnNEVaRT1c0"
      },
      "outputs": [],
      "source": [
        "audio = generate(\n",
        "    text = \"మీరు ఆస్వాదిస్తున్నారని ఆశిస్తున్నాను\",\n",
        "    voice = \"Rachel\",\n",
        "    model = \"eleven_multilingual_v2\"\n",
        ")\n",
        "\n",
        "play(audio, notebook = True)"
      ]
    }
  ],
  "metadata": {
    "colab": {
      "provenance": []
    },
    "kernelspec": {
      "display_name": "Python 3",
      "name": "python3"
    },
    "language_info": {
      "codemirror_mode": {
        "name": "ipython",
        "version": 3
      },
      "file_extension": ".py",
      "mimetype": "text/x-python",
      "name": "python",
      "nbconvert_exporter": "python",
      "pygments_lexer": "ipython3",
      "version": "3.11.5"
    }
  },
  "nbformat": 4,
  "nbformat_minor": 0
}
