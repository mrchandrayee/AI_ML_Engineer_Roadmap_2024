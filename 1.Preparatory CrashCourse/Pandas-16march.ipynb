{
 "cells": [
  {
   "cell_type": "code",
   "execution_count": 1,
   "metadata": {},
   "outputs": [],
   "source": [
    "import pandas as pd"
   ]
  },
  {
   "cell_type": "code",
   "execution_count": 2,
   "metadata": {},
   "outputs": [],
   "source": [
    "import numpy as np"
   ]
  },
  {
   "cell_type": "code",
   "execution_count": 4,
   "metadata": {},
   "outputs": [],
   "source": [
    "df=pd.read_csv(r'Marks.csv')"
   ]
  },
  {
   "cell_type": "code",
   "execution_count": 5,
   "metadata": {},
   "outputs": [
    {
     "data": {
      "text/html": [
       "<div>\n",
       "<style scoped>\n",
       "    .dataframe tbody tr th:only-of-type {\n",
       "        vertical-align: middle;\n",
       "    }\n",
       "\n",
       "    .dataframe tbody tr th {\n",
       "        vertical-align: top;\n",
       "    }\n",
       "\n",
       "    .dataframe thead th {\n",
       "        text-align: right;\n",
       "    }\n",
       "</style>\n",
       "<table border=\"1\" class=\"dataframe\">\n",
       "  <thead>\n",
       "    <tr style=\"text-align: right;\">\n",
       "      <th></th>\n",
       "      <th>S.N</th>\n",
       "      <th>Roll</th>\n",
       "      <th>Name</th>\n",
       "      <th>T1</th>\n",
       "      <th>T2</th>\n",
       "      <th>End sem</th>\n",
       "      <th>TA</th>\n",
       "      <th>Grades</th>\n",
       "    </tr>\n",
       "  </thead>\n",
       "  <tbody>\n",
       "    <tr>\n",
       "      <th>0</th>\n",
       "      <td>1</td>\n",
       "      <td>BT20CSE001</td>\n",
       "      <td>ANIKET B AGRAWAL</td>\n",
       "      <td>22.0</td>\n",
       "      <td>17</td>\n",
       "      <td>24.0</td>\n",
       "      <td>18.0</td>\n",
       "      <td>AA</td>\n",
       "    </tr>\n",
       "    <tr>\n",
       "      <th>1</th>\n",
       "      <td>2</td>\n",
       "      <td>BT20CSE002</td>\n",
       "      <td>KATTA RAKESH REDDY</td>\n",
       "      <td>12.0</td>\n",
       "      <td>13</td>\n",
       "      <td>23.0</td>\n",
       "      <td>11.0</td>\n",
       "      <td>BC</td>\n",
       "    </tr>\n",
       "    <tr>\n",
       "      <th>2</th>\n",
       "      <td>3</td>\n",
       "      <td>BT20CSE003</td>\n",
       "      <td>CHIRAG RAJKUMAR BHANDAKKAR</td>\n",
       "      <td>20.0</td>\n",
       "      <td>15</td>\n",
       "      <td>18.0</td>\n",
       "      <td>18.0</td>\n",
       "      <td>BB</td>\n",
       "    </tr>\n",
       "    <tr>\n",
       "      <th>3</th>\n",
       "      <td>4</td>\n",
       "      <td>BT20CSE004</td>\n",
       "      <td>Tejas Rajendra Donadkar</td>\n",
       "      <td>22.5</td>\n",
       "      <td>17</td>\n",
       "      <td>23.0</td>\n",
       "      <td>17.0</td>\n",
       "      <td>AB</td>\n",
       "    </tr>\n",
       "    <tr>\n",
       "      <th>4</th>\n",
       "      <td>5</td>\n",
       "      <td>BT20CSE005</td>\n",
       "      <td>Utkarsh Sanjay Vishwakarma</td>\n",
       "      <td>23.0</td>\n",
       "      <td>17</td>\n",
       "      <td>22.5</td>\n",
       "      <td>4.0</td>\n",
       "      <td>BC</td>\n",
       "    </tr>\n",
       "  </tbody>\n",
       "</table>\n",
       "</div>"
      ],
      "text/plain": [
       "   S.N        Roll                        Name    T1  T2  End sem    TA Grades\n",
       "0    1  BT20CSE001            ANIKET B AGRAWAL  22.0  17     24.0  18.0     AA\n",
       "1    2  BT20CSE002          KATTA RAKESH REDDY  12.0  13     23.0  11.0     BC\n",
       "2    3  BT20CSE003  CHIRAG RAJKUMAR BHANDAKKAR  20.0  15     18.0  18.0     BB\n",
       "3    4  BT20CSE004     Tejas Rajendra Donadkar  22.5  17     23.0  17.0     AB\n",
       "4    5  BT20CSE005  Utkarsh Sanjay Vishwakarma  23.0  17     22.5   4.0     BC"
      ]
     },
     "execution_count": 5,
     "metadata": {},
     "output_type": "execute_result"
    }
   ],
   "source": [
    "df.head()"
   ]
  },
  {
   "cell_type": "code",
   "execution_count": 6,
   "metadata": {},
   "outputs": [
    {
     "data": {
      "text/html": [
       "<div>\n",
       "<style scoped>\n",
       "    .dataframe tbody tr th:only-of-type {\n",
       "        vertical-align: middle;\n",
       "    }\n",
       "\n",
       "    .dataframe tbody tr th {\n",
       "        vertical-align: top;\n",
       "    }\n",
       "\n",
       "    .dataframe thead th {\n",
       "        text-align: right;\n",
       "    }\n",
       "</style>\n",
       "<table border=\"1\" class=\"dataframe\">\n",
       "  <thead>\n",
       "    <tr style=\"text-align: right;\">\n",
       "      <th></th>\n",
       "      <th>S.N</th>\n",
       "      <th>Roll</th>\n",
       "      <th>Name</th>\n",
       "      <th>T1</th>\n",
       "      <th>T2</th>\n",
       "      <th>End sem</th>\n",
       "      <th>TA</th>\n",
       "      <th>Grades</th>\n",
       "    </tr>\n",
       "  </thead>\n",
       "  <tbody>\n",
       "    <tr>\n",
       "      <th>186</th>\n",
       "      <td>187</td>\n",
       "      <td>BT20CSE207</td>\n",
       "      <td>Swapnil  Kabir</td>\n",
       "      <td>19.5</td>\n",
       "      <td>15</td>\n",
       "      <td>24.0</td>\n",
       "      <td>17.0</td>\n",
       "      <td>AB</td>\n",
       "    </tr>\n",
       "    <tr>\n",
       "      <th>187</th>\n",
       "      <td>188</td>\n",
       "      <td>BT19CSE101</td>\n",
       "      <td>NANDEEP</td>\n",
       "      <td>7.0</td>\n",
       "      <td>12</td>\n",
       "      <td>5.0</td>\n",
       "      <td>5.0</td>\n",
       "      <td>FF</td>\n",
       "    </tr>\n",
       "    <tr>\n",
       "      <th>188</th>\n",
       "      <td>189</td>\n",
       "      <td>Bt18cse039</td>\n",
       "      <td>Aatram Sujith</td>\n",
       "      <td>4.0</td>\n",
       "      <td>14</td>\n",
       "      <td>11.5</td>\n",
       "      <td>5.5</td>\n",
       "      <td>DD</td>\n",
       "    </tr>\n",
       "    <tr>\n",
       "      <th>189</th>\n",
       "      <td>190</td>\n",
       "      <td>BT20CSE096</td>\n",
       "      <td>VAIBHAV  GOKLANI</td>\n",
       "      <td>0.0</td>\n",
       "      <td>5</td>\n",
       "      <td>5.0</td>\n",
       "      <td>0.0</td>\n",
       "      <td>FF</td>\n",
       "    </tr>\n",
       "    <tr>\n",
       "      <th>190</th>\n",
       "      <td>191</td>\n",
       "      <td>BT20CSE195</td>\n",
       "      <td>SHUBHANGI ASHOK RASAL</td>\n",
       "      <td>0.0</td>\n",
       "      <td>9</td>\n",
       "      <td>1.0</td>\n",
       "      <td>0.0</td>\n",
       "      <td>FF</td>\n",
       "    </tr>\n",
       "  </tbody>\n",
       "</table>\n",
       "</div>"
      ],
      "text/plain": [
       "     S.N        Roll                   Name    T1  T2  End sem    TA Grades\n",
       "186  187  BT20CSE207         Swapnil  Kabir  19.5  15     24.0  17.0     AB\n",
       "187  188  BT19CSE101                NANDEEP   7.0  12      5.0   5.0     FF\n",
       "188  189  Bt18cse039          Aatram Sujith   4.0  14     11.5   5.5     DD\n",
       "189  190  BT20CSE096       VAIBHAV  GOKLANI   0.0   5      5.0   0.0     FF\n",
       "190  191  BT20CSE195  SHUBHANGI ASHOK RASAL   0.0   9      1.0   0.0     FF"
      ]
     },
     "execution_count": 6,
     "metadata": {},
     "output_type": "execute_result"
    }
   ],
   "source": [
    "df.tail()"
   ]
  },
  {
   "cell_type": "code",
   "execution_count": 7,
   "metadata": {
    "scrolled": true
   },
   "outputs": [
    {
     "data": {
      "text/html": [
       "<div>\n",
       "<style scoped>\n",
       "    .dataframe tbody tr th:only-of-type {\n",
       "        vertical-align: middle;\n",
       "    }\n",
       "\n",
       "    .dataframe tbody tr th {\n",
       "        vertical-align: top;\n",
       "    }\n",
       "\n",
       "    .dataframe thead th {\n",
       "        text-align: right;\n",
       "    }\n",
       "</style>\n",
       "<table border=\"1\" class=\"dataframe\">\n",
       "  <thead>\n",
       "    <tr style=\"text-align: right;\">\n",
       "      <th></th>\n",
       "      <th>S.N</th>\n",
       "      <th>Roll</th>\n",
       "      <th>Name</th>\n",
       "      <th>T1</th>\n",
       "      <th>T2</th>\n",
       "      <th>End sem</th>\n",
       "      <th>TA</th>\n",
       "      <th>Grades</th>\n",
       "    </tr>\n",
       "  </thead>\n",
       "  <tbody>\n",
       "    <tr>\n",
       "      <th>0</th>\n",
       "      <td>1</td>\n",
       "      <td>BT20CSE001</td>\n",
       "      <td>ANIKET B AGRAWAL</td>\n",
       "      <td>22.0</td>\n",
       "      <td>17</td>\n",
       "      <td>24.0</td>\n",
       "      <td>18.0</td>\n",
       "      <td>AA</td>\n",
       "    </tr>\n",
       "    <tr>\n",
       "      <th>1</th>\n",
       "      <td>2</td>\n",
       "      <td>BT20CSE002</td>\n",
       "      <td>KATTA RAKESH REDDY</td>\n",
       "      <td>12.0</td>\n",
       "      <td>13</td>\n",
       "      <td>23.0</td>\n",
       "      <td>11.0</td>\n",
       "      <td>BC</td>\n",
       "    </tr>\n",
       "    <tr>\n",
       "      <th>2</th>\n",
       "      <td>3</td>\n",
       "      <td>BT20CSE003</td>\n",
       "      <td>CHIRAG RAJKUMAR BHANDAKKAR</td>\n",
       "      <td>20.0</td>\n",
       "      <td>15</td>\n",
       "      <td>18.0</td>\n",
       "      <td>18.0</td>\n",
       "      <td>BB</td>\n",
       "    </tr>\n",
       "    <tr>\n",
       "      <th>3</th>\n",
       "      <td>4</td>\n",
       "      <td>BT20CSE004</td>\n",
       "      <td>Tejas Rajendra Donadkar</td>\n",
       "      <td>22.5</td>\n",
       "      <td>17</td>\n",
       "      <td>23.0</td>\n",
       "      <td>17.0</td>\n",
       "      <td>AB</td>\n",
       "    </tr>\n",
       "    <tr>\n",
       "      <th>4</th>\n",
       "      <td>5</td>\n",
       "      <td>BT20CSE005</td>\n",
       "      <td>Utkarsh Sanjay Vishwakarma</td>\n",
       "      <td>23.0</td>\n",
       "      <td>17</td>\n",
       "      <td>22.5</td>\n",
       "      <td>4.0</td>\n",
       "      <td>BC</td>\n",
       "    </tr>\n",
       "    <tr>\n",
       "      <th>5</th>\n",
       "      <td>6</td>\n",
       "      <td>BT20CSE006</td>\n",
       "      <td>Chaudhari Bhavesh Ishwar</td>\n",
       "      <td>14.0</td>\n",
       "      <td>15</td>\n",
       "      <td>23.5</td>\n",
       "      <td>16.0</td>\n",
       "      <td>BB</td>\n",
       "    </tr>\n",
       "    <tr>\n",
       "      <th>6</th>\n",
       "      <td>7</td>\n",
       "      <td>BT20CSE007</td>\n",
       "      <td>SATYAM  SHUKLA</td>\n",
       "      <td>22.0</td>\n",
       "      <td>17</td>\n",
       "      <td>23.5</td>\n",
       "      <td>18.0</td>\n",
       "      <td>AA</td>\n",
       "    </tr>\n",
       "    <tr>\n",
       "      <th>7</th>\n",
       "      <td>8</td>\n",
       "      <td>BT20CSE008</td>\n",
       "      <td>Vaidehi Manoj Mahyavanshi</td>\n",
       "      <td>8.0</td>\n",
       "      <td>14</td>\n",
       "      <td>24.0</td>\n",
       "      <td>15.0</td>\n",
       "      <td>BC</td>\n",
       "    </tr>\n",
       "    <tr>\n",
       "      <th>8</th>\n",
       "      <td>9</td>\n",
       "      <td>BT20CSE009</td>\n",
       "      <td>YATHARTH  ANAND</td>\n",
       "      <td>18.5</td>\n",
       "      <td>14</td>\n",
       "      <td>22.5</td>\n",
       "      <td>17.0</td>\n",
       "      <td>AB</td>\n",
       "    </tr>\n",
       "    <tr>\n",
       "      <th>9</th>\n",
       "      <td>10</td>\n",
       "      <td>BT20CSE010</td>\n",
       "      <td>Yogesh Jitendra Lolge</td>\n",
       "      <td>14.0</td>\n",
       "      <td>15</td>\n",
       "      <td>15.5</td>\n",
       "      <td>17.0</td>\n",
       "      <td>BB</td>\n",
       "    </tr>\n",
       "  </tbody>\n",
       "</table>\n",
       "</div>"
      ],
      "text/plain": [
       "   S.N        Roll                        Name    T1  T2  End sem    TA Grades\n",
       "0    1  BT20CSE001            ANIKET B AGRAWAL  22.0  17     24.0  18.0     AA\n",
       "1    2  BT20CSE002          KATTA RAKESH REDDY  12.0  13     23.0  11.0     BC\n",
       "2    3  BT20CSE003  CHIRAG RAJKUMAR BHANDAKKAR  20.0  15     18.0  18.0     BB\n",
       "3    4  BT20CSE004     Tejas Rajendra Donadkar  22.5  17     23.0  17.0     AB\n",
       "4    5  BT20CSE005  Utkarsh Sanjay Vishwakarma  23.0  17     22.5   4.0     BC\n",
       "5    6  BT20CSE006    Chaudhari Bhavesh Ishwar  14.0  15     23.5  16.0     BB\n",
       "6    7  BT20CSE007              SATYAM  SHUKLA  22.0  17     23.5  18.0     AA\n",
       "7    8  BT20CSE008   Vaidehi Manoj Mahyavanshi   8.0  14     24.0  15.0     BC\n",
       "8    9  BT20CSE009             YATHARTH  ANAND  18.5  14     22.5  17.0     AB\n",
       "9   10  BT20CSE010       Yogesh Jitendra Lolge  14.0  15     15.5  17.0     BB"
      ]
     },
     "execution_count": 7,
     "metadata": {},
     "output_type": "execute_result"
    }
   ],
   "source": [
    "df.head(10)"
   ]
  },
  {
   "cell_type": "code",
   "execution_count": 9,
   "metadata": {},
   "outputs": [
    {
     "name": "stdout",
     "output_type": "stream",
     "text": [
      "<class 'pandas.core.frame.DataFrame'>\n",
      "RangeIndex: 191 entries, 0 to 190\n",
      "Data columns (total 8 columns):\n",
      " #   Column   Non-Null Count  Dtype  \n",
      "---  ------   --------------  -----  \n",
      " 0   S.N      191 non-null    int64  \n",
      " 1   Roll     191 non-null    object \n",
      " 2   Name     191 non-null    object \n",
      " 3   T1       191 non-null    float64\n",
      " 4   T2       191 non-null    int64  \n",
      " 5   End sem  191 non-null    float64\n",
      " 6   TA       191 non-null    float64\n",
      " 7   Grades   191 non-null    object \n",
      "dtypes: float64(3), int64(2), object(3)\n",
      "memory usage: 12.1+ KB\n"
     ]
    }
   ],
   "source": [
    "df.info()"
   ]
  },
  {
   "cell_type": "code",
   "execution_count": 10,
   "metadata": {},
   "outputs": [
    {
     "data": {
      "text/html": [
       "<div>\n",
       "<style scoped>\n",
       "    .dataframe tbody tr th:only-of-type {\n",
       "        vertical-align: middle;\n",
       "    }\n",
       "\n",
       "    .dataframe tbody tr th {\n",
       "        vertical-align: top;\n",
       "    }\n",
       "\n",
       "    .dataframe thead th {\n",
       "        text-align: right;\n",
       "    }\n",
       "</style>\n",
       "<table border=\"1\" class=\"dataframe\">\n",
       "  <thead>\n",
       "    <tr style=\"text-align: right;\">\n",
       "      <th></th>\n",
       "      <th>S.N</th>\n",
       "      <th>T1</th>\n",
       "      <th>T2</th>\n",
       "      <th>End sem</th>\n",
       "      <th>TA</th>\n",
       "    </tr>\n",
       "  </thead>\n",
       "  <tbody>\n",
       "    <tr>\n",
       "      <th>count</th>\n",
       "      <td>191.0000</td>\n",
       "      <td>191.000000</td>\n",
       "      <td>191.000000</td>\n",
       "      <td>191.000000</td>\n",
       "      <td>191.000000</td>\n",
       "    </tr>\n",
       "    <tr>\n",
       "      <th>mean</th>\n",
       "      <td>96.0000</td>\n",
       "      <td>15.112565</td>\n",
       "      <td>13.890052</td>\n",
       "      <td>18.968586</td>\n",
       "      <td>14.782723</td>\n",
       "    </tr>\n",
       "    <tr>\n",
       "      <th>std</th>\n",
       "      <td>55.2811</td>\n",
       "      <td>5.958112</td>\n",
       "      <td>3.417210</td>\n",
       "      <td>5.570274</td>\n",
       "      <td>4.314744</td>\n",
       "    </tr>\n",
       "    <tr>\n",
       "      <th>min</th>\n",
       "      <td>1.0000</td>\n",
       "      <td>0.000000</td>\n",
       "      <td>0.000000</td>\n",
       "      <td>0.000000</td>\n",
       "      <td>0.000000</td>\n",
       "    </tr>\n",
       "    <tr>\n",
       "      <th>25%</th>\n",
       "      <td>48.5000</td>\n",
       "      <td>11.000000</td>\n",
       "      <td>12.000000</td>\n",
       "      <td>16.500000</td>\n",
       "      <td>13.000000</td>\n",
       "    </tr>\n",
       "    <tr>\n",
       "      <th>50%</th>\n",
       "      <td>96.0000</td>\n",
       "      <td>16.000000</td>\n",
       "      <td>14.000000</td>\n",
       "      <td>20.500000</td>\n",
       "      <td>17.000000</td>\n",
       "    </tr>\n",
       "    <tr>\n",
       "      <th>75%</th>\n",
       "      <td>143.5000</td>\n",
       "      <td>20.000000</td>\n",
       "      <td>17.000000</td>\n",
       "      <td>23.000000</td>\n",
       "      <td>18.000000</td>\n",
       "    </tr>\n",
       "    <tr>\n",
       "      <th>max</th>\n",
       "      <td>191.0000</td>\n",
       "      <td>26.000000</td>\n",
       "      <td>20.000000</td>\n",
       "      <td>26.500000</td>\n",
       "      <td>19.000000</td>\n",
       "    </tr>\n",
       "  </tbody>\n",
       "</table>\n",
       "</div>"
      ],
      "text/plain": [
       "            S.N          T1          T2     End sem          TA\n",
       "count  191.0000  191.000000  191.000000  191.000000  191.000000\n",
       "mean    96.0000   15.112565   13.890052   18.968586   14.782723\n",
       "std     55.2811    5.958112    3.417210    5.570274    4.314744\n",
       "min      1.0000    0.000000    0.000000    0.000000    0.000000\n",
       "25%     48.5000   11.000000   12.000000   16.500000   13.000000\n",
       "50%     96.0000   16.000000   14.000000   20.500000   17.000000\n",
       "75%    143.5000   20.000000   17.000000   23.000000   18.000000\n",
       "max    191.0000   26.000000   20.000000   26.500000   19.000000"
      ]
     },
     "execution_count": 10,
     "metadata": {},
     "output_type": "execute_result"
    }
   ],
   "source": [
    "df.describe()"
   ]
  },
  {
   "cell_type": "code",
   "execution_count": 11,
   "metadata": {},
   "outputs": [
    {
     "data": {
      "text/plain": [
       "(191, 8)"
      ]
     },
     "execution_count": 11,
     "metadata": {},
     "output_type": "execute_result"
    }
   ],
   "source": [
    "df.shape"
   ]
  },
  {
   "cell_type": "code",
   "execution_count": 12,
   "metadata": {},
   "outputs": [
    {
     "data": {
      "text/plain": [
       "pandas.core.frame.DataFrame"
      ]
     },
     "execution_count": 12,
     "metadata": {},
     "output_type": "execute_result"
    }
   ],
   "source": [
    "type(df)"
   ]
  },
  {
   "cell_type": "code",
   "execution_count": 13,
   "metadata": {},
   "outputs": [
    {
     "data": {
      "text/plain": [
       "0      24.0\n",
       "1      23.0\n",
       "2      18.0\n",
       "3      23.0\n",
       "4      22.5\n",
       "       ... \n",
       "186    24.0\n",
       "187     5.0\n",
       "188    11.5\n",
       "189     5.0\n",
       "190     1.0\n",
       "Name: End sem, Length: 191, dtype: float64"
      ]
     },
     "execution_count": 13,
     "metadata": {},
     "output_type": "execute_result"
    }
   ],
   "source": [
    "df['End sem']"
   ]
  },
  {
   "cell_type": "code",
   "execution_count": 14,
   "metadata": {},
   "outputs": [
    {
     "data": {
      "text/plain": [
       "0      22.0\n",
       "1      12.0\n",
       "2      20.0\n",
       "3      22.5\n",
       "4      23.0\n",
       "       ... \n",
       "186    19.5\n",
       "187     7.0\n",
       "188     4.0\n",
       "189     0.0\n",
       "190     0.0\n",
       "Name: T1, Length: 191, dtype: float64"
      ]
     },
     "execution_count": 14,
     "metadata": {},
     "output_type": "execute_result"
    }
   ],
   "source": [
    "df.T1  #only if the column name doesnt contain spaces"
   ]
  },
  {
   "cell_type": "code",
   "execution_count": 15,
   "metadata": {},
   "outputs": [
    {
     "ename": "SyntaxError",
     "evalue": "invalid syntax (<ipython-input-15-84843f7bc62b>, line 1)",
     "output_type": "error",
     "traceback": [
      "\u001b[1;36m  File \u001b[1;32m\"<ipython-input-15-84843f7bc62b>\"\u001b[1;36m, line \u001b[1;32m1\u001b[0m\n\u001b[1;33m    df.End sem\u001b[0m\n\u001b[1;37m             ^\u001b[0m\n\u001b[1;31mSyntaxError\u001b[0m\u001b[1;31m:\u001b[0m invalid syntax\n"
     ]
    }
   ],
   "source": [
    "df.End sem"
   ]
  },
  {
   "cell_type": "code",
   "execution_count": 16,
   "metadata": {},
   "outputs": [
    {
     "data": {
      "text/plain": [
       "0        1\n",
       "1        2\n",
       "2        3\n",
       "3        4\n",
       "4        5\n",
       "      ... \n",
       "186    187\n",
       "187    188\n",
       "188    189\n",
       "189    190\n",
       "190    191\n",
       "Name: S.N, Length: 191, dtype: int64"
      ]
     },
     "execution_count": 16,
     "metadata": {},
     "output_type": "execute_result"
    }
   ],
   "source": [
    "df['S.N']"
   ]
  },
  {
   "cell_type": "code",
   "execution_count": 17,
   "metadata": {},
   "outputs": [
    {
     "data": {
      "text/plain": [
       "BB    42\n",
       "BC    39\n",
       "AB    37\n",
       "CC    22\n",
       "AA    15\n",
       "CD    15\n",
       "FF    11\n",
       "DD    10\n",
       "Name: Grades, dtype: int64"
      ]
     },
     "execution_count": 17,
     "metadata": {},
     "output_type": "execute_result"
    }
   ],
   "source": [
    "df['Grades'].value_counts()"
   ]
  },
  {
   "cell_type": "code",
   "execution_count": 18,
   "metadata": {},
   "outputs": [
    {
     "data": {
      "text/plain": [
       "21.0    12\n",
       "14.0    10\n",
       "11.0     9\n",
       "16.0     9\n",
       "13.0     8\n",
       "18.0     8\n",
       "22.0     8\n",
       "18.5     7\n",
       "17.5     7\n",
       "20.0     7\n",
       "7.0      6\n",
       "20.5     6\n",
       "10.0     6\n",
       "19.0     6\n",
       "5.0      5\n",
       "12.5     5\n",
       "15.0     5\n",
       "19.5     5\n",
       "14.5     5\n",
       "17.0     5\n",
       "23.0     4\n",
       "12.0     4\n",
       "0.0      3\n",
       "13.5     3\n",
       "25.0     3\n",
       "23.5     3\n",
       "8.5      3\n",
       "4.0      3\n",
       "9.0      3\n",
       "4.5      3\n",
       "8.0      3\n",
       "21.5     2\n",
       "26.0     2\n",
       "16.5     2\n",
       "22.5     2\n",
       "3.0      2\n",
       "15.5     1\n",
       "6.0      1\n",
       "1.0      1\n",
       "2.0      1\n",
       "25.5     1\n",
       "10.5     1\n",
       "11.5     1\n",
       "Name: T1, dtype: int64"
      ]
     },
     "execution_count": 18,
     "metadata": {},
     "output_type": "execute_result"
    }
   ],
   "source": [
    "df.T1.value_counts()"
   ]
  },
  {
   "cell_type": "code",
   "execution_count": null,
   "metadata": {},
   "outputs": [],
   "source": []
  },
  {
   "cell_type": "code",
   "execution_count": null,
   "metadata": {},
   "outputs": [],
   "source": []
  },
  {
   "cell_type": "code",
   "execution_count": null,
   "metadata": {},
   "outputs": [],
   "source": []
  },
  {
   "cell_type": "code",
   "execution_count": null,
   "metadata": {},
   "outputs": [],
   "source": []
  },
  {
   "cell_type": "code",
   "execution_count": null,
   "metadata": {},
   "outputs": [],
   "source": []
  },
  {
   "cell_type": "code",
   "execution_count": null,
   "metadata": {},
   "outputs": [],
   "source": []
  }
 ],
 "metadata": {
  "kernelspec": {
   "display_name": "Python 3",
   "language": "python",
   "name": "python3"
  },
  "language_info": {
   "codemirror_mode": {
    "name": "ipython",
    "version": 3
   },
   "file_extension": ".py",
   "mimetype": "text/x-python",
   "name": "python",
   "nbconvert_exporter": "python",
   "pygments_lexer": "ipython3",
   "version": "3.11.5"
  }
 },
 "nbformat": 4,
 "nbformat_minor": 4
}
